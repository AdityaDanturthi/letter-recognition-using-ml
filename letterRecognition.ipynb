import pandas as pd
import numpy as np
from sklearn.svm import SVC
from sklearn.model_selection import train_test_split
from sklearn import metrics
from sklearn.metrics import confusion_matrix
from sklearn.model_selection import KFold
from sklearn.model_selection import cross_val_score
from sklearn.model_selection import GridSearchCV
import matplotlib.pyplot as plt
import seaborn as sns
from sklearn.preprocessing import scale

lr = 'https://archive.ics.uci.edu/ml/machine-learning-databases/letter-recognition/letter-recognition.data'

df = pd.read_csv(lr, names=['letter', 'xbox','ybox', 'width', 'height', 'onpix', 'xbar','ybar','x2bar','y2bar','xybar','x2ybar','xy2bar','xedge','xedgey','yedge','yedgex'])
df.head()

from sklearn.preprocessing import LabelEncoder

# creating instance of labelencoder
labelencoder = LabelEncoder()

# Assigning numerical values and storing in another column
df['letterencoded'] = labelencoder.fit_transform(df['letter'])
df.head()

print("Dimensions: ", df.shape, "\n")
print(df.info())

order = list(np.sort(df['letter'].unique()))
order

sns.histplot(data=df, x="letter")

dfmean = df.groupby('letter').mean()
plt.figure(figsize=(18, 10))
sns.heatmap(dfmean, annot =True, linewidth =.5)

# average value of each feature
round(df.drop('letter', axis= 1).mean(), 2)

#Splitting into X and Y
X = df.drop(['letter', 'letterencoded'], axis=1)

y = df['letterencoded']

# train test split
X_train, X_test, y_train, y_test = train_test_split(X, y, test_size = 0.3, random_state = 100)
model = SVC(kernel = 'linear').fit(X_train, y_train)
y_pred = model.predict(X_test)

# accuracy
r2_score = model.score(X_test,y_test)
print("Accuracy score:", r2_score,)
